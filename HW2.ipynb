{
 "cells": [
  {
   "cell_type": "code",
   "execution_count": null,
   "metadata": {},
   "outputs": [],
   "source": [
    "# BD20 HW2\n",
    "\n",
    "# Shishkin I.A.\n",
    "# 135m"
   ]
  },
  {
   "cell_type": "code",
   "execution_count": 1,
   "metadata": {},
   "outputs": [],
   "source": [
    "import numpy as np\n",
    "import scipy.linalg\n",
    "from functools import reduce"
   ]
  },
  {
   "cell_type": "code",
   "execution_count": 2,
   "metadata": {},
   "outputs": [],
   "source": [
    "def Mean_cov_map(X):\n",
    "    \n",
    "    n = X.shape[1]  # number of vectors\n",
    "    m = X.shape[0] # vectors dim\n",
    "    \n",
    "    S = np.sum(X, axis=1) # sum vector\n",
    "    \n",
    "    M  = [np.zeros(m) for i in range(m)] # cov matrix, default contains zeros\n",
    "    \n",
    "    for i in range(n):\n",
    "        M += X[:, i].reshape(-1,1) @ X[:, i].reshape(1,-1)\n",
    "    \n",
    "    return n, S, M"
   ]
  },
  {
   "cell_type": "code",
   "execution_count": 3,
   "metadata": {},
   "outputs": [],
   "source": [
    "def Mean_cov_reduce(x, y):\n",
    "    return x[0]+y[0], x[1]+y[1], x[2]+y[2]"
   ]
  },
  {
   "cell_type": "code",
   "execution_count": 4,
   "metadata": {},
   "outputs": [],
   "source": [
    "def Mean_cov_result(r):\n",
    "    \n",
    "    mean_vec = r[1] / r[0]\n",
    "    \n",
    "    cov_matrix =  r[2] - (r[1].reshape(-1,1) @ r[1].reshape(1,-1))/r[0]\n",
    "    cov_matrix = cov_matrix / (r[0]-1)\n",
    "    \n",
    "    return mean_vec, cov_matrix"
   ]
  },
  {
   "cell_type": "code",
   "execution_count": 5,
   "metadata": {},
   "outputs": [],
   "source": [
    "def Result(nodes):\n",
    "    return Mean_cov_result(reduce(Mean_cov_reduce, map(Mean_cov_map, nodes)))"
   ]
  },
  {
   "cell_type": "code",
   "execution_count": 6,
   "metadata": {},
   "outputs": [],
   "source": [
    "# example\n",
    "\n",
    "m = 3   # Dimension - raws\n",
    "n = 20  # Sample size - columns\n",
    "\n",
    "X0 = np.array([[1.],[2.],[3.]])\n",
    "V0 = np.array([[1., .5, .5],[.5, 1., .5],[.5, .5, 1.]])\n",
    "\n",
    "Vs=scipy.linalg.sqrtm(V0)\n",
    "\n",
    "X = X0 @ np.ones((1,n)) + Vs @ np.random.normal(size=(m,n))\n",
    "\n",
    "nodes = [X[:,:5], X[:,5:10], X[:,10:15], X[:,15:20]]"
   ]
  },
  {
   "cell_type": "code",
   "execution_count": 7,
   "metadata": {},
   "outputs": [
    {
     "data": {
      "text/plain": [
       "(array([1.17127003, 2.0798393 , 3.16566469]),\n",
       " array([[0.44299516, 0.39124832, 0.16839361],\n",
       "        [0.39124832, 1.31863786, 0.71923647],\n",
       "        [0.16839361, 0.71923647, 0.83516702]]))"
      ]
     },
     "execution_count": 7,
     "metadata": {},
     "output_type": "execute_result"
    }
   ],
   "source": [
    "# result for full data\n",
    "\n",
    "Mean_cov_result(Mean_cov_map(X))"
   ]
  },
  {
   "cell_type": "code",
   "execution_count": 8,
   "metadata": {},
   "outputs": [
    {
     "data": {
      "text/plain": [
       "(array([1.17127003, 2.0798393 , 3.16566469]),\n",
       " array([[0.44299516, 0.39124832, 0.16839361],\n",
       "        [0.39124832, 1.31863786, 0.71923647],\n",
       "        [0.16839361, 0.71923647, 0.83516702]]))"
      ]
     },
     "execution_count": 8,
     "metadata": {},
     "output_type": "execute_result"
    }
   ],
   "source": [
    "# result for parts. It must be equal to full data result\n",
    "\n",
    "Result(nodes)"
   ]
  },
  {
   "cell_type": "code",
   "execution_count": 9,
   "metadata": {},
   "outputs": [
    {
     "data": {
      "text/plain": [
       "array([1.17127003, 2.0798393 , 3.16566469])"
      ]
     },
     "execution_count": 9,
     "metadata": {},
     "output_type": "execute_result"
    }
   ],
   "source": [
    "# verification for mean vector\n",
    "\n",
    "np.mean(X, axis=1)"
   ]
  },
  {
   "cell_type": "code",
   "execution_count": 10,
   "metadata": {},
   "outputs": [
    {
     "data": {
      "text/plain": [
       "array([[0.44299516, 0.39124832, 0.16839361],\n",
       "       [0.39124832, 1.31863786, 0.71923647],\n",
       "       [0.16839361, 0.71923647, 0.83516702]])"
      ]
     },
     "execution_count": 10,
     "metadata": {},
     "output_type": "execute_result"
    }
   ],
   "source": [
    "# verification for covariance matrix\n",
    "\n",
    "np.cov(X)"
   ]
  }
 ],
 "metadata": {
  "kernelspec": {
   "display_name": "Python 3",
   "language": "python",
   "name": "python3"
  },
  "language_info": {
   "codemirror_mode": {
    "name": "ipython",
    "version": 3
   },
   "file_extension": ".py",
   "mimetype": "text/x-python",
   "name": "python",
   "nbconvert_exporter": "python",
   "pygments_lexer": "ipython3",
   "version": "3.7.4"
  }
 },
 "nbformat": 4,
 "nbformat_minor": 4
}
